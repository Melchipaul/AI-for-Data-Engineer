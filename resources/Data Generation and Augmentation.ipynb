{
 "cells": [
  {
   "cell_type": "markdown",
   "metadata": {},
   "source": [
    "# Data Generation and Augmentation\n",
    "\n",
    "## Table of Contents\n",
    "1. Introduction\n",
    "2. Examples\n",
    "3. References and Further Reading"
   ]
  },
  {
   "cell_type": "markdown",
   "metadata": {},
   "source": [
    "<a id='introduction'></a>\n",
    "## 1. Introduction\n",
    "\n",
    "Generative AI can be used for data generation and augmentation in several ways, particularly in creating realistic synthetic data based on specific situations:\n",
    "\n",
    "1. Creating realistic synthetic datasets\n",
    "2. Augmenting existing data with additional attributes\n",
    "3. Generating data patterns based on given prompts\n",
    "4. Filling in missing data points\n",
    "5. Simulating various scenarios for testing and analysis\n",
    "6. Creating diverse datasets: Gen AI can generate a wide range of data points that mimic real-world scenarios.\n",
    "7. Augmenting existing datasets: It can add variations to existing data, increasing dataset size and diversity.\n",
    "8. Generating rare or edge cases: AI can create data for uncommon scenarios that are hard to collect naturally.\n",
    "9. Preserving privacy: Synthetic data can be used instead of sensitive real data for testing and development.\n",
    "10. Balancing datasets: Gen AI can create additional samples for underrepresented classes in imbalanced datasets.\n",
    "   \n",
    "Using Gen AI for synthetic data creation offers several benefits:\n",
    "\n",
    "- Overcoming data scarcity\n",
    "- Protecting privacy by avoiding real user data\n",
    "- Creating diverse datasets for robust model training\n",
    "- Simulating rare events or edge cases\n",
    "- Rapid prototyping and testing of data-driven systems\n",
    "- Increases dataset size, improving model performance.\n",
    "- Enhances dataset diversity, reducing bias.\n",
    "- Saves time compared to manual data collection.\n",
    "- Allows exploration of 'what-if' scenarios.\n",
    "\n",
    "Key terminology:\n",
    "- Synthetic Data: Artificially generated data that mimics real-world data\n",
    "- Data Augmentation: Techniques to increase the amount and diversity of data\n",
    "- Prompt: A text input that guides the AI in generating specific types of data\n",
    "- Pattern: A repeating structure or trend in the data that the AI can learn and replicate\n",
    "\n",
    "For data engineers, Gen AI-based synthetic data creation can be particularly helpful in:\n",
    "- Testing data pipelines with diverse and large-scale datasets\n",
    "- Developing and validating data models without risking real, sensitive data\n",
    "- Creating representative datasets for machine learning model training\n",
    "- Simulating various data scenarios for system stress testing"
   ]
  },
  {
   "cell_type": "code",
   "execution_count": 1,
   "metadata": {},
   "outputs": [
    {
     "name": "stdout",
     "output_type": "stream",
     "text": [
      "Requirement already satisfied: openai in d:\\data engineering\\ai for data engineer\\ai_data_engineer\\lib\\site-packages (1.97.1)\n",
      "Requirement already satisfied: pandas in d:\\data engineering\\ai for data engineer\\ai_data_engineer\\lib\\site-packages (2.3.1)\n",
      "Requirement already satisfied: scikit-learn in d:\\data engineering\\ai for data engineer\\ai_data_engineer\\lib\\site-packages (1.7.1)\n",
      "Requirement already satisfied: matplotlib in d:\\data engineering\\ai for data engineer\\ai_data_engineer\\lib\\site-packages (3.10.3)\n",
      "Requirement already satisfied: anyio<5,>=3.5.0 in d:\\data engineering\\ai for data engineer\\ai_data_engineer\\lib\\site-packages (from openai) (4.9.0)\n",
      "Requirement already satisfied: distro<2,>=1.7.0 in d:\\data engineering\\ai for data engineer\\ai_data_engineer\\lib\\site-packages (from openai) (1.9.0)\n",
      "Requirement already satisfied: httpx<1,>=0.23.0 in d:\\data engineering\\ai for data engineer\\ai_data_engineer\\lib\\site-packages (from openai) (0.28.1)\n",
      "Requirement already satisfied: jiter<1,>=0.4.0 in d:\\data engineering\\ai for data engineer\\ai_data_engineer\\lib\\site-packages (from openai) (0.10.0)\n",
      "Requirement already satisfied: pydantic<3,>=1.9.0 in d:\\data engineering\\ai for data engineer\\ai_data_engineer\\lib\\site-packages (from openai) (2.11.7)\n",
      "Requirement already satisfied: sniffio in d:\\data engineering\\ai for data engineer\\ai_data_engineer\\lib\\site-packages (from openai) (1.3.1)\n",
      "Requirement already satisfied: tqdm>4 in d:\\data engineering\\ai for data engineer\\ai_data_engineer\\lib\\site-packages (from openai) (4.67.1)\n",
      "Requirement already satisfied: typing-extensions<5,>=4.11 in d:\\data engineering\\ai for data engineer\\ai_data_engineer\\lib\\site-packages (from openai) (4.14.1)\n",
      "Requirement already satisfied: idna>=2.8 in d:\\data engineering\\ai for data engineer\\ai_data_engineer\\lib\\site-packages (from anyio<5,>=3.5.0->openai) (3.10)\n",
      "Requirement already satisfied: certifi in d:\\data engineering\\ai for data engineer\\ai_data_engineer\\lib\\site-packages (from httpx<1,>=0.23.0->openai) (2025.7.14)\n",
      "Requirement already satisfied: httpcore==1.* in d:\\data engineering\\ai for data engineer\\ai_data_engineer\\lib\\site-packages (from httpx<1,>=0.23.0->openai) (1.0.9)\n",
      "Requirement already satisfied: h11>=0.16 in d:\\data engineering\\ai for data engineer\\ai_data_engineer\\lib\\site-packages (from httpcore==1.*->httpx<1,>=0.23.0->openai) (0.16.0)\n",
      "Requirement already satisfied: annotated-types>=0.6.0 in d:\\data engineering\\ai for data engineer\\ai_data_engineer\\lib\\site-packages (from pydantic<3,>=1.9.0->openai) (0.7.0)\n",
      "Requirement already satisfied: pydantic-core==2.33.2 in d:\\data engineering\\ai for data engineer\\ai_data_engineer\\lib\\site-packages (from pydantic<3,>=1.9.0->openai) (2.33.2)\n",
      "Requirement already satisfied: typing-inspection>=0.4.0 in d:\\data engineering\\ai for data engineer\\ai_data_engineer\\lib\\site-packages (from pydantic<3,>=1.9.0->openai) (0.4.1)\n",
      "Requirement already satisfied: numpy>=1.23.2 in d:\\data engineering\\ai for data engineer\\ai_data_engineer\\lib\\site-packages (from pandas) (2.3.2)\n",
      "Requirement already satisfied: python-dateutil>=2.8.2 in d:\\data engineering\\ai for data engineer\\ai_data_engineer\\lib\\site-packages (from pandas) (2.9.0.post0)\n",
      "Requirement already satisfied: pytz>=2020.1 in d:\\data engineering\\ai for data engineer\\ai_data_engineer\\lib\\site-packages (from pandas) (2025.2)\n",
      "Requirement already satisfied: tzdata>=2022.7 in d:\\data engineering\\ai for data engineer\\ai_data_engineer\\lib\\site-packages (from pandas) (2025.2)\n",
      "Requirement already satisfied: scipy>=1.8.0 in d:\\data engineering\\ai for data engineer\\ai_data_engineer\\lib\\site-packages (from scikit-learn) (1.16.0)\n",
      "Requirement already satisfied: joblib>=1.2.0 in d:\\data engineering\\ai for data engineer\\ai_data_engineer\\lib\\site-packages (from scikit-learn) (1.5.1)\n",
      "Requirement already satisfied: threadpoolctl>=3.1.0 in d:\\data engineering\\ai for data engineer\\ai_data_engineer\\lib\\site-packages (from scikit-learn) (3.6.0)\n",
      "Requirement already satisfied: contourpy>=1.0.1 in d:\\data engineering\\ai for data engineer\\ai_data_engineer\\lib\\site-packages (from matplotlib) (1.3.2)\n",
      "Requirement already satisfied: cycler>=0.10 in d:\\data engineering\\ai for data engineer\\ai_data_engineer\\lib\\site-packages (from matplotlib) (0.12.1)\n",
      "Requirement already satisfied: fonttools>=4.22.0 in d:\\data engineering\\ai for data engineer\\ai_data_engineer\\lib\\site-packages (from matplotlib) (4.59.0)\n",
      "Requirement already satisfied: kiwisolver>=1.3.1 in d:\\data engineering\\ai for data engineer\\ai_data_engineer\\lib\\site-packages (from matplotlib) (1.4.8)\n",
      "Requirement already satisfied: packaging>=20.0 in d:\\data engineering\\ai for data engineer\\ai_data_engineer\\lib\\site-packages (from matplotlib) (25.0)\n",
      "Requirement already satisfied: pillow>=8 in d:\\data engineering\\ai for data engineer\\ai_data_engineer\\lib\\site-packages (from matplotlib) (11.3.0)\n",
      "Requirement already satisfied: pyparsing>=2.3.1 in d:\\data engineering\\ai for data engineer\\ai_data_engineer\\lib\\site-packages (from matplotlib) (3.2.3)\n",
      "Requirement already satisfied: six>=1.5 in d:\\data engineering\\ai for data engineer\\ai_data_engineer\\lib\\site-packages (from python-dateutil>=2.8.2->pandas) (1.17.0)\n",
      "Requirement already satisfied: colorama in d:\\data engineering\\ai for data engineer\\ai_data_engineer\\lib\\site-packages (from tqdm>4->openai) (0.4.6)\n"
     ]
    }
   ],
   "source": [
    "!pip install openai pandas scikit-learn matplotlib"
   ]
  },
  {
   "cell_type": "code",
   "execution_count": null,
   "metadata": {},
   "outputs": [],
   "source": [
    "import os\n",
    "import openai\n",
    "import pandas as pd\n",
    "import json\n",
    "from openai import OpenAI\n",
    "import numpy as np\n",
    "from pprint import pprint\n",
    "\n",
    "\n",
    "# Set up OpenAI API key\n",
    "API_KEY = os.getenv('API_KEY')\n",
    "client = OpenAI(api_key=API_KEY)\n",
    "\n",
    "def clean(dict_variable):\n",
    "    return next(iter(dict_variable.values()))"
   ]
  },
  {
   "cell_type": "code",
   "execution_count": 3,
   "metadata": {},
   "outputs": [],
   "source": [
    "# test our API call\n",
    "completion = client.chat.completions.create(\n",
    "    model=\"gpt-4o-mini\",\n",
    "    messages=[\n",
    "        {\"role\": \"user\", \"content\": \"tell me a slogan for an ice cream company. Return as a JSON object.\"},\n",
    "    ],\n",
    "    response_format={\"type\": \"json_object\"}\n",
    ")"
   ]
  },
  {
   "cell_type": "code",
   "execution_count": 4,
   "metadata": {},
   "outputs": [],
   "source": [
    "n = json.loads(completion.choices[0].message.content)"
   ]
  },
  {
   "cell_type": "code",
   "execution_count": 5,
   "metadata": {},
   "outputs": [
    {
     "data": {
      "text/plain": [
       "'Chill Out with Every Scoop!'"
      ]
     },
     "execution_count": 5,
     "metadata": {},
     "output_type": "execute_result"
    }
   ],
   "source": [
    "clean(n)"
   ]
  },
  {
   "cell_type": "markdown",
   "metadata": {},
   "source": [
    "<a id='example1'></a>\n",
    "## 2. Example 1: Generating Synthetic Data"
   ]
  },
  {
   "cell_type": "code",
   "execution_count": 6,
   "metadata": {
    "scrolled": true
   },
   "outputs": [
    {
     "name": "stdout",
     "output_type": "stream",
     "text": [
      "{\n",
      "  \"sales_data\": [\n",
      "    {\n",
      "      \"date\": \"2023-10-01\",\n",
      "      \"customer_id\": \"Customer 01\",\n",
      "      \"order_total\": 25.75\n",
      "    },\n",
      "    {\n",
      "      \"date\": \"2023-10-02\",\n",
      "      \"customer_id\": \"Customer 02\",\n",
      "      \"order_total\": 50.0\n",
      "    },\n",
      "    {\n",
      "      \"date\": \"2023-10-03\",\n",
      "      \"customer_id\": \"Customer 03\",\n",
      "      \"order_total\": 15.25\n",
      "    },\n",
      "    {\n",
      "      \"date\": \"2023-10-04\",\n",
      "      \"customer_id\": \"Customer 04\",\n",
      "      \"order_total\": -5.0\n",
      "    },\n",
      "    {\n",
      "      \"date\": \"2023-10-05\",\n",
      "      \"customer_id\": \"Customer 01\",\n",
      "      \"order_total\": 60.75\n",
      "    },\n",
      "    {\n",
      "      \"date\": \"2023-10-06\",\n",
      "      \"customer_id\": \"Customer 05\",\n",
      "      \"order_total\": 45.5\n",
      "    },\n",
      "    {\n",
      "      \"date\": \"2023-10-07\",\n",
      "      \"customer_id\": \"Customer 06\",\n",
      "      \"order_total\": 100.0\n",
      "    },\n",
      "    {\n",
      "      \"date\": \"2023-10-08\",\n",
      "      \"customer_id\": \"Customer 02\",\n",
      "      \"order_total\": 70.0\n",
      "    },\n",
      "    {\n",
      "      \"date\": \"2023-10-09\",\n",
      "      \"customer_id\": \"Customer 03\",\n",
      "      \"order_total\": -20.0\n",
      "    },\n",
      "    {\n",
      "      \"date\": \"2023-10-10\",\n",
      "      \"customer_id\": \"Customer 07\",\n",
      "      \"order_total\": 30.0\n",
      "    },\n",
      "    {\n",
      "      \"date\": \"2023-10-11\",\n",
      "      \"customer_id\": \"Customer 08\",\n",
      "      \"order_total\": 12.99\n",
      "    },\n",
      "    {\n",
      "      \"date\": \"2023-10-12\",\n",
      "      \"customer_id\": \"Customer 09\",\n",
      "      \"order_total\": 88.5\n",
      "    },\n",
      "    {\n",
      "      \"date\": \"2023-10-13\",\n",
      "      \"customer_id\": \"Customer 10\",\n",
      "      \"order_total\": -15.0\n",
      "    },\n",
      "    {\n",
      "      \"date\": \"2023-10-14\",\n",
      "      \"customer_id\": \"Customer 01\",\n",
      "      \"order_total\": 40.0\n",
      "    },\n",
      "    {\n",
      "      \"date\": \"2023-10-15\",\n",
      "      \"customer_id\": \"Customer 03\",\n",
      "      \"order_total\": 20.0\n",
      "    },\n",
      "    {\n",
      "      \"date\": \"2023-10-16\",\n",
      "      \"customer_id\": \"Customer 05\",\n",
      "      \"order_total\": 11.5\n",
      "    },\n",
      "    {\n",
      "      \"date\": \"2023-10-17\",\n",
      "      \"customer_id\": \"Customer 06\",\n",
      "      \"order_total\": 75.0\n",
      "    },\n",
      "    {\n",
      "      \"date\": \"2023-10-18\",\n",
      "      \"customer_id\": \"Customer 02\",\n",
      "      \"order_total\": 35.25\n",
      "    },\n",
      "    {\n",
      "      \"date\": \"2023-10-19\",\n",
      "      \"customer_id\": \"Customer 04\",\n",
      "      \"order_total\": -10.0\n",
      "    },\n",
      "    {\n",
      "      \"date\": \"2023-10-20\",\n",
      "      \"customer_id\": \"Customer 10\",\n",
      "      \"order_total\": 20.5\n",
      "    },\n",
      "    {\n",
      "      \"date\": \"2023-10-21\",\n",
      "      \"customer_id\": \"Customer 09\",\n",
      "      \"order_total\": 50.0\n",
      "    },\n",
      "    {\n",
      "      \"date\": \"2023-10-22\",\n",
      "      \"customer_id\": \"Customer 07\",\n",
      "      \"order_total\": 55.25\n",
      "    },\n",
      "    {\n",
      "      \"date\": \"2023-10-23\",\n",
      "      \"customer_id\": \"Customer 08\",\n",
      "      \"order_total\": 18.75\n",
      "    },\n",
      "    {\n",
      "      \"date\": \"2023-10-24\",\n",
      "      \"customer_id\": \"Customer 01\",\n",
      "      \"order_total\": 30.0\n",
      "    },\n",
      "    {\n",
      "      \"date\": \"2023-10-25\",\n",
      "      \"customer_id\": \"Customer 03\",\n",
      "      \"order_total\": -7.5\n",
      "    },\n",
      "    {\n",
      "      \"date\": \"2023-10-26\",\n",
      "      \"customer_id\": \"Customer 05\",\n",
      "      \"order_total\": 90.0\n",
      "    },\n",
      "    {\n",
      "      \"date\": \"2023-10-27\",\n",
      "      \"customer_id\": \"Customer 06\",\n",
      "      \"order_total\": 25.0\n",
      "    },\n",
      "    {\n",
      "      \"date\": \"2023-10-28\",\n",
      "      \"customer_id\": \"Customer 02\",\n",
      "      \"order_total\": 45.75\n",
      "    },\n",
      "    {\n",
      "      \"date\": \"2023-10-29\",\n",
      "      \"customer_id\": \"Customer 04\",\n",
      "      \"order_total\": 8.25\n",
      "    },\n",
      "    {\n",
      "      \"date\": \"2023-10-30\",\n",
      "      \"customer_id\": \"Customer 10\",\n",
      "      \"order_total\": -30.0\n",
      "    },\n",
      "    {\n",
      "      \"date\": \"2023-10-31\",\n",
      "      \"customer_id\": \"Customer 09\",\n",
      "      \"order_total\": 70.0\n",
      "    }\n",
      "  ]\n",
      "}\n"
     ]
    }
   ],
   "source": [
    "prompt = \"Generate synthetic sales data for an e-commerce platform. Include fields for date, customer_id (Customer ###), order total (in $USD). For certain orders, the order total should be negative. Create data for 10 customers. Output in JSON form.\"\n",
    "\n",
    "response = client.chat.completions.create(\n",
    "    model=\"gpt-4o-mini\",\n",
    "    messages=[{\"role\": \"user\", \"content\": prompt}],\n",
    "    response_format={\"type\": \"json_object\"}\n",
    ")\n",
    "\n",
    "customer_data = json.loads(response.choices[0].message.content)\n",
    "print(json.dumps(customer_data, indent=2))"
   ]
  },
  {
   "cell_type": "code",
   "execution_count": 8,
   "metadata": {},
   "outputs": [
    {
     "name": "stdout",
     "output_type": "stream",
     "text": [
      "          date  customer_id  order_total\n",
      "0   2023-10-01  Customer 01        25.75\n",
      "1   2023-10-02  Customer 02        50.00\n",
      "2   2023-10-03  Customer 03        15.25\n",
      "3   2023-10-04  Customer 04        -5.00\n",
      "4   2023-10-05  Customer 01        60.75\n",
      "5   2023-10-06  Customer 05        45.50\n",
      "6   2023-10-07  Customer 06       100.00\n",
      "7   2023-10-08  Customer 02        70.00\n",
      "8   2023-10-09  Customer 03       -20.00\n",
      "9   2023-10-10  Customer 07        30.00\n",
      "10  2023-10-11  Customer 08        12.99\n",
      "11  2023-10-12  Customer 09        88.50\n",
      "12  2023-10-13  Customer 10       -15.00\n",
      "13  2023-10-14  Customer 01        40.00\n",
      "14  2023-10-15  Customer 03        20.00\n",
      "15  2023-10-16  Customer 05        11.50\n",
      "16  2023-10-17  Customer 06        75.00\n",
      "17  2023-10-18  Customer 02        35.25\n",
      "18  2023-10-19  Customer 04       -10.00\n",
      "19  2023-10-20  Customer 10        20.50\n",
      "20  2023-10-21  Customer 09        50.00\n",
      "21  2023-10-22  Customer 07        55.25\n",
      "22  2023-10-23  Customer 08        18.75\n",
      "23  2023-10-24  Customer 01        30.00\n",
      "24  2023-10-25  Customer 03        -7.50\n",
      "25  2023-10-26  Customer 05        90.00\n",
      "26  2023-10-27  Customer 06        25.00\n",
      "27  2023-10-28  Customer 02        45.75\n",
      "28  2023-10-29  Customer 04         8.25\n",
      "29  2023-10-30  Customer 10       -30.00\n",
      "30  2023-10-31  Customer 09        70.00\n"
     ]
    }
   ],
   "source": [
    "# Convert to DataFrame\n",
    "df_customers = pd.DataFrame(clean(customer_data))\n",
    "print(df_customers)"
   ]
  },
  {
   "cell_type": "code",
   "execution_count": 9,
   "metadata": {},
   "outputs": [
    {
     "name": "stdout",
     "output_type": "stream",
     "text": [
      "{\n",
      "  \"reviews\": [\n",
      "    {\n",
      "      \"review_id\": \"1\",\n",
      "      \"rating\": 5,\n",
      "      \"review_text\": \"Absolutely love this smartphone! The camera quality is outstanding, and the battery lasts all day long. The design is sleek and modern. Highly recommend!\"\n",
      "    },\n",
      "    {\n",
      "      \"review_id\": \"2\",\n",
      "      \"rating\": 4,\n",
      "      \"review_text\": \"Great performance and smooth user interface. The only downside is the lack of expandable storage. Otherwise, it's a fantastic device for the price.\"\n",
      "    },\n",
      "    {\n",
      "      \"review_id\": \"3\",\n",
      "      \"rating\": 2,\n",
      "      \"review_text\": \"I was really excited about this phone, but it has been disappointing. The battery drains quickly and the apps crash often. I wouldn\\u2019t recommend it.\"\n",
      "    },\n",
      "    {\n",
      "      \"review_id\": \"4\",\n",
      "      \"rating\": 3,\n",
      "      \"review_text\": \"Average smartphone experience. It has good features, but nothing stands out. The screen could be brighter, and the audio quality isn't the best.\"\n",
      "    },\n",
      "    {\n",
      "      \"review_id\": \"5\",\n",
      "      \"rating\": 5,\n",
      "      \"review_text\": \"This smartphone exceeded my expectations! Fast processing, excellent camera, and the display is stunning. Worth every penny! I'm extremely happy with my purchase.\"\n",
      "    }\n",
      "  ]\n",
      "}\n"
     ]
    }
   ],
   "source": [
    "prompt = \"\"\"Generate 5 synthetic product reviews for a smartphone. Include fields for review_id, rating (1-5), and review_text. Output in JSON form.\"\"\"\n",
    "\n",
    "response = client.chat.completions.create(\n",
    "    model=\"gpt-4o-mini\",\n",
    "    messages=[{\"role\": \"user\", \"content\": prompt}],\n",
    "    response_format={\"type\": \"json_object\"}\n",
    ")\n",
    "\n",
    "review_data = json.loads(response.choices[0].message.content)\n",
    "print(json.dumps(review_data, indent=2))"
   ]
  },
  {
   "cell_type": "code",
   "execution_count": 10,
   "metadata": {},
   "outputs": [
    {
     "name": "stdout",
     "output_type": "stream",
     "text": [
      "  review_id  rating                                        review_text\n",
      "0         1       5  Absolutely love this smartphone! The camera qu...\n",
      "1         2       4  Great performance and smooth user interface. T...\n",
      "2         3       2  I was really excited about this phone, but it ...\n",
      "3         4       3  Average smartphone experience. It has good fea...\n",
      "4         5       5  This smartphone exceeded my expectations! Fast...\n"
     ]
    }
   ],
   "source": [
    "# Convert to DataFrame\n",
    "df_reviews = pd.DataFrame(clean(review_data))\n",
    "print(df_reviews)"
   ]
  },
  {
   "cell_type": "markdown",
   "metadata": {},
   "source": [
    "<a id='example2'></a>\n",
    "## 2. Example 2: Augmenting Existing Data"
   ]
  },
  {
   "cell_type": "code",
   "execution_count": 11,
   "metadata": {
    "scrolled": true
   },
   "outputs": [
    {
     "name": "stdout",
     "output_type": "stream",
     "text": [
      "Existing Data:\n",
      "      product  price     category\n",
      "0      Laptop   1200  Electronics\n",
      "1  Smartphone    800  Electronics\n",
      "\n",
      "Generated New Products:\n",
      "[\n",
      "  {\n",
      "    \"product\": \"Tablet\",\n",
      "    \"price\": 600,\n",
      "    \"category\": \"Electronics\"\n",
      "  },\n",
      "  {\n",
      "    \"product\": \"Smartwatch\",\n",
      "    \"price\": 250,\n",
      "    \"category\": \"Electronics\"\n",
      "  },\n",
      "  {\n",
      "    \"product\": \"Bluetooth Headphones\",\n",
      "    \"price\": 150,\n",
      "    \"category\": \"Electronics\"\n",
      "  }\n",
      "]\n"
     ]
    }
   ],
   "source": [
    "# Assuming we have an existing dataset\n",
    "existing_data = pd.DataFrame({\n",
    "    'product': ['Laptop', 'Smartphone'],\n",
    "    'price': [1200, 800],\n",
    "    'category': ['Electronics', 'Electronics']\n",
    "})\n",
    "print(\"Existing Data:\")\n",
    "print(existing_data)\n",
    "\n",
    "prompt = f\"\"\"Given this product data: {existing_data.to_dict('records')}, \n",
    "generate 3 additional products in the same format, maintaining similar patterns but with different values. Output in JSON form.\"\"\"\n",
    "\n",
    "response = client.chat.completions.create(\n",
    "    model=\"gpt-4o-mini\",\n",
    "    messages=[{\"role\": \"user\", \"content\": prompt}],\n",
    "    response_format={\"type\": \"json_object\"}\n",
    ")\n",
    "\n",
    "new_products = clean(json.loads(response.choices[0].message.content))\n",
    "print(\"\\nGenerated New Products:\")\n",
    "print(json.dumps(new_products, indent=2))"
   ]
  },
  {
   "cell_type": "code",
   "execution_count": null,
   "metadata": {},
   "outputs": [],
   "source": [
    "print(pd.DataFrame(data=new_products))"
   ]
  },
  {
   "cell_type": "code",
   "execution_count": 12,
   "metadata": {},
   "outputs": [
    {
     "name": "stdout",
     "output_type": "stream",
     "text": [
      "Original data:\n",
      "[\n",
      "  {\n",
      "    \"id\": 1,\n",
      "    \"age\": 25,\n",
      "    \"income\": 50000\n",
      "  },\n",
      "  {\n",
      "    \"id\": 2,\n",
      "    \"age\": 40,\n",
      "    \"income\": 75000\n",
      "  }\n",
      "]\n"
     ]
    }
   ],
   "source": [
    "# Original dataset\n",
    "original_data = [\n",
    "    {\"id\": 1, \"age\": 25, \"income\": 50000},\n",
    "    {\"id\": 2, \"age\": 40, \"income\": 75000}\n",
    "]\n",
    "\n",
    "print(\"Original data:\")\n",
    "print(json.dumps(original_data, indent=2))"
   ]
  },
  {
   "cell_type": "code",
   "execution_count": 13,
   "metadata": {},
   "outputs": [
    {
     "name": "stdout",
     "output_type": "stream",
     "text": [
      "Augmented data:\n",
      "[\n",
      "  {\n",
      "    \"id\": 1,\n",
      "    \"age\": 25,\n",
      "    \"income\": 50000\n",
      "  },\n",
      "  {\n",
      "    \"id\": 2,\n",
      "    \"age\": 40,\n",
      "    \"income\": 75000\n",
      "  },\n",
      "  {\n",
      "    \"id\": 3,\n",
      "    \"age\": 30,\n",
      "    \"income\": 60000\n",
      "  },\n",
      "  {\n",
      "    \"id\": 4,\n",
      "    \"age\": 50,\n",
      "    \"income\": 90000\n",
      "  },\n",
      "  {\n",
      "    \"id\": 5,\n",
      "    \"age\": 35,\n",
      "    \"income\": 70000\n",
      "  }\n",
      "]\n"
     ]
    }
   ],
   "source": [
    "prompt = f\"Generate 3 new data points similar to these, maintaining realistic relationships between age and income. Output in JSON form: {json.dumps(original_data)}\"\n",
    "\n",
    "response = client.chat.completions.create(\n",
    "    model=\"gpt-4o-mini\",\n",
    "    messages=[{\"role\": \"user\", \"content\": prompt}],\n",
    "    response_format={\"type\": \"json_object\"}\n",
    ")\n",
    "\n",
    "new_data = json.loads(response.choices[0].message.content)\n",
    "\n",
    "augmented_data = original_data + clean(new_data)\n",
    "\n",
    "print(\"Augmented data:\")\n",
    "print(json.dumps(augmented_data, indent=2))"
   ]
  },
  {
   "cell_type": "code",
   "execution_count": 14,
   "metadata": {},
   "outputs": [
    {
     "data": {
      "text/html": [
       "<div>\n",
       "<style scoped>\n",
       "    .dataframe tbody tr th:only-of-type {\n",
       "        vertical-align: middle;\n",
       "    }\n",
       "\n",
       "    .dataframe tbody tr th {\n",
       "        vertical-align: top;\n",
       "    }\n",
       "\n",
       "    .dataframe thead th {\n",
       "        text-align: right;\n",
       "    }\n",
       "</style>\n",
       "<table border=\"1\" class=\"dataframe\">\n",
       "  <thead>\n",
       "    <tr style=\"text-align: right;\">\n",
       "      <th></th>\n",
       "      <th>id</th>\n",
       "      <th>age</th>\n",
       "      <th>income</th>\n",
       "    </tr>\n",
       "  </thead>\n",
       "  <tbody>\n",
       "    <tr>\n",
       "      <th>0</th>\n",
       "      <td>1</td>\n",
       "      <td>25</td>\n",
       "      <td>50000</td>\n",
       "    </tr>\n",
       "    <tr>\n",
       "      <th>2</th>\n",
       "      <td>3</td>\n",
       "      <td>30</td>\n",
       "      <td>60000</td>\n",
       "    </tr>\n",
       "    <tr>\n",
       "      <th>4</th>\n",
       "      <td>5</td>\n",
       "      <td>35</td>\n",
       "      <td>70000</td>\n",
       "    </tr>\n",
       "    <tr>\n",
       "      <th>1</th>\n",
       "      <td>2</td>\n",
       "      <td>40</td>\n",
       "      <td>75000</td>\n",
       "    </tr>\n",
       "    <tr>\n",
       "      <th>3</th>\n",
       "      <td>4</td>\n",
       "      <td>50</td>\n",
       "      <td>90000</td>\n",
       "    </tr>\n",
       "  </tbody>\n",
       "</table>\n",
       "</div>"
      ],
      "text/plain": [
       "   id  age  income\n",
       "0   1   25   50000\n",
       "2   3   30   60000\n",
       "4   5   35   70000\n",
       "1   2   40   75000\n",
       "3   4   50   90000"
      ]
     },
     "execution_count": 14,
     "metadata": {},
     "output_type": "execute_result"
    }
   ],
   "source": [
    "pd.DataFrame(augmented_data).sort_values('age')"
   ]
  },
  {
   "cell_type": "markdown",
   "metadata": {},
   "source": [
    "<a id='example3'></a>\n",
    "## 2. Example 3: Creating Time Series Data"
   ]
  },
  {
   "cell_type": "code",
   "execution_count": 15,
   "metadata": {
    "scrolled": true
   },
   "outputs": [
    {
     "name": "stdout",
     "output_type": "stream",
     "text": [
      "{\n",
      "  \"sales_data\": [\n",
      "    {\n",
      "      \"date\": \"2023-09-01\",\n",
      "      \"total_sales\": 320\n",
      "    },\n",
      "    {\n",
      "      \"date\": \"2023-09-02\",\n",
      "      \"total_sales\": 400\n",
      "    },\n",
      "    {\n",
      "      \"date\": \"2023-09-03\",\n",
      "      \"total_sales\": 450\n",
      "    },\n",
      "    {\n",
      "      \"date\": \"2023-09-04\",\n",
      "      \"total_sales\": 280\n",
      "    },\n",
      "    {\n",
      "      \"date\": \"2023-09-05\",\n",
      "      \"total_sales\": 300\n",
      "    },\n",
      "    {\n",
      "      \"date\": \"2023-09-06\",\n",
      "      \"total_sales\": 310\n",
      "    },\n",
      "    {\n",
      "      \"date\": \"2023-09-07\",\n",
      "      \"total_sales\": 330\n",
      "    },\n",
      "    {\n",
      "      \"date\": \"2023-09-08\",\n",
      "      \"total_sales\": 350\n",
      "    },\n",
      "    {\n",
      "      \"date\": \"2023-09-09\",\n",
      "      \"total_sales\": 420\n",
      "    },\n",
      "    {\n",
      "      \"date\": \"2023-09-10\",\n",
      "      \"total_sales\": 460\n",
      "    },\n",
      "    {\n",
      "      \"date\": \"2023-09-11\",\n",
      "      \"total_sales\": 290\n",
      "    },\n",
      "    {\n",
      "      \"date\": \"2023-09-12\",\n",
      "      \"total_sales\": 310\n",
      "    },\n",
      "    {\n",
      "      \"date\": \"2023-09-13\",\n",
      "      \"total_sales\": 320\n",
      "    },\n",
      "    {\n",
      "      \"date\": \"2023-09-14\",\n",
      "      \"total_sales\": 345\n",
      "    },\n",
      "    {\n",
      "      \"date\": \"2023-09-15\",\n",
      "      \"total_sales\": 350\n",
      "    },\n",
      "    {\n",
      "      \"date\": \"2023-09-16\",\n",
      "      \"total_sales\": 500\n",
      "    },\n",
      "    {\n",
      "      \"date\": \"2023-09-17\",\n",
      "      \"total_sales\": 480\n",
      "    },\n",
      "    {\n",
      "      \"date\": \"2023-09-18\",\n",
      "      \"total_sales\": 300\n",
      "    },\n",
      "    {\n",
      "      \"date\": \"2023-09-19\",\n",
      "      \"total_sales\": 330\n",
      "    },\n",
      "    {\n",
      "      \"date\": \"2023-09-20\",\n",
      "      \"total_sales\": 310\n",
      "    },\n",
      "    {\n",
      "      \"date\": \"2023-09-21\",\n",
      "      \"total_sales\": 340\n",
      "    },\n",
      "    {\n",
      "      \"date\": \"2023-09-22\",\n",
      "      \"total_sales\": 360\n",
      "    },\n",
      "    {\n",
      "      \"date\": \"2023-09-23\",\n",
      "      \"total_sales\": 520\n",
      "    },\n",
      "    {\n",
      "      \"date\": \"2023-09-24\",\n",
      "      \"total_sales\": 500\n",
      "    },\n",
      "    {\n",
      "      \"date\": \"2023-09-25\",\n",
      "      \"total_sales\": 320\n",
      "    },\n",
      "    {\n",
      "      \"date\": \"2023-09-26\",\n",
      "      \"total_sales\": 340\n",
      "    },\n",
      "    {\n",
      "      \"date\": \"2023-09-27\",\n",
      "      \"total_sales\": 355\n",
      "    },\n",
      "    {\n",
      "      \"date\": \"2023-09-28\",\n",
      "      \"total_sales\": 370\n",
      "    },\n",
      "    {\n",
      "      \"date\": \"2023-09-29\",\n",
      "      \"total_sales\": 390\n",
      "    },\n",
      "    {\n",
      "      \"date\": \"2023-09-30\",\n",
      "      \"total_sales\": 550\n",
      "    },\n",
      "    {\n",
      "      \"date\": \"2023-10-01\",\n",
      "      \"total_sales\": 530\n",
      "    },\n",
      "    {\n",
      "      \"date\": \"2023-10-02\",\n",
      "      \"total_sales\": 310\n",
      "    },\n",
      "    {\n",
      "      \"date\": \"2023-10-03\",\n",
      "      \"total_sales\": 325\n",
      "    },\n",
      "    {\n",
      "      \"date\": \"2023-10-04\",\n",
      "      \"total_sales\": 340\n",
      "    },\n",
      "    {\n",
      "      \"date\": \"2023-10-05\",\n",
      "      \"total_sales\": 360\n",
      "    },\n",
      "    {\n",
      "      \"date\": \"2023-10-06\",\n",
      "      \"total_sales\": 380\n",
      "    },\n",
      "    {\n",
      "      \"date\": \"2023-10-07\",\n",
      "      \"total_sales\": 600\n",
      "    },\n",
      "    {\n",
      "      \"date\": \"2023-10-08\",\n",
      "      \"total_sales\": 570\n",
      "    },\n",
      "    {\n",
      "      \"date\": \"2023-10-09\",\n",
      "      \"total_sales\": 320\n",
      "    },\n",
      "    {\n",
      "      \"date\": \"2023-10-10\",\n",
      "      \"total_sales\": 340\n",
      "    },\n",
      "    {\n",
      "      \"date\": \"2023-10-11\",\n",
      "      \"total_sales\": 360\n",
      "    },\n",
      "    {\n",
      "      \"date\": \"2023-10-12\",\n",
      "      \"total_sales\": 380\n",
      "    },\n",
      "    {\n",
      "      \"date\": \"2023-10-13\",\n",
      "      \"total_sales\": 400\n",
      "    },\n",
      "    {\n",
      "      \"date\": \"2023-10-14\",\n",
      "      \"total_sales\": 620\n",
      "    },\n",
      "    {\n",
      "      \"date\": \"2023-10-15\",\n",
      "      \"total_sales\": 590\n",
      "    }\n",
      "  ]\n",
      "}\n"
     ]
    }
   ],
   "source": [
    "prompt = \"Generate synthetic daily sales data for a coffee shop for over 4 weeks, for product. Include date and total_sales. Show a realistic pattern with weekend peaks. Output in JSON form.\"\n",
    "\n",
    "response = client.chat.completions.create(\n",
    "    model=\"gpt-4o-mini\",\n",
    "    messages=[{\"role\": \"user\", \"content\": prompt}],\n",
    "    response_format={\"type\": \"json_object\"}\n",
    ")\n",
    "\n",
    "sales_data = json.loads(response.choices[0].message.content)\n",
    "print(json.dumps(sales_data, indent=2))"
   ]
  },
  {
   "cell_type": "code",
   "execution_count": 16,
   "metadata": {
    "scrolled": true
   },
   "outputs": [
    {
     "name": "stdout",
     "output_type": "stream",
     "text": [
      "         date  total_sales\n",
      "0  2023-09-01          320\n",
      "1  2023-09-02          400\n",
      "2  2023-09-03          450\n",
      "3  2023-09-04          280\n",
      "4  2023-09-05          300\n",
      "5  2023-09-06          310\n",
      "6  2023-09-07          330\n",
      "7  2023-09-08          350\n",
      "8  2023-09-09          420\n",
      "9  2023-09-10          460\n",
      "10 2023-09-11          290\n",
      "11 2023-09-12          310\n",
      "12 2023-09-13          320\n",
      "13 2023-09-14          345\n",
      "14 2023-09-15          350\n",
      "15 2023-09-16          500\n",
      "16 2023-09-17          480\n",
      "17 2023-09-18          300\n",
      "18 2023-09-19          330\n",
      "19 2023-09-20          310\n",
      "20 2023-09-21          340\n",
      "21 2023-09-22          360\n",
      "22 2023-09-23          520\n",
      "23 2023-09-24          500\n",
      "24 2023-09-25          320\n",
      "25 2023-09-26          340\n",
      "26 2023-09-27          355\n",
      "27 2023-09-28          370\n",
      "28 2023-09-29          390\n",
      "29 2023-09-30          550\n",
      "30 2023-10-01          530\n",
      "31 2023-10-02          310\n",
      "32 2023-10-03          325\n",
      "33 2023-10-04          340\n",
      "34 2023-10-05          360\n",
      "35 2023-10-06          380\n",
      "36 2023-10-07          600\n",
      "37 2023-10-08          570\n",
      "38 2023-10-09          320\n",
      "39 2023-10-10          340\n",
      "40 2023-10-11          360\n",
      "41 2023-10-12          380\n",
      "42 2023-10-13          400\n",
      "43 2023-10-14          620\n",
      "44 2023-10-15          590\n"
     ]
    }
   ],
   "source": [
    "# Convert to DataFrame\n",
    "df_sales = pd.DataFrame(clean(sales_data))\n",
    "df_sales['date'] = pd.to_datetime(df_sales['date'])\n",
    "print(df_sales)"
   ]
  },
  {
   "cell_type": "code",
   "execution_count": 17,
   "metadata": {},
   "outputs": [
    {
     "data": {
      "image/png": "[encoded data removed]",
      "text/plain": [
       "<Figure size 1000x600 with 1 Axes>"
      ]
     },
     "metadata": {},
     "output_type": "display_data"
    }
   ],
   "source": [
    "# visualize it\n",
    "import matplotlib.pyplot as plt\n",
    "\n",
    "# Plotting the data\n",
    "plt.figure(figsize=(10, 6))\n",
    "plt.plot(df_sales['date'], df_sales['total_sales'], marker='o', linestyle='-', color='b')\n",
    "\n",
    "plt.title('Total Sales Over Time')\n",
    "plt.xlabel('Date')\n",
    "plt.ylabel('Total Sales')\n",
    "plt.grid(True)\n",
    "plt.xticks(rotation=45)\n",
    "plt.tight_layout()\n",
    "\n",
    "# Show the plot\n",
    "plt.show()"
   ]
  },
  {
   "cell_type": "markdown",
   "metadata": {},
   "source": [
    "<a id='3'></a>\n",
    "## 2. Example 4: Generating Edge Cases for a Weather Dataset"
   ]
  },
  {
   "cell_type": "code",
   "execution_count": 18,
   "metadata": {},
   "outputs": [
    {
     "name": "stdout",
     "output_type": "stream",
     "text": [
      "        date  temperature  precipitation  wind_speed\n",
      "0 2023-01-01    18.198929      44.523067   18.887364\n",
      "1 2023-01-02     5.470685       4.583327   14.895490\n",
      "2 2023-01-03    16.035481       5.414170   16.278490\n",
      "3 2023-01-04    29.284544      34.734614   19.314840\n",
      "4 2023-01-05     4.931249      27.521319   14.511616\n",
      "\n",
      "Temperature range: 0.08 to 29.91\n",
      "Precipitation range: 0.39 to 49.96\n",
      "Wind speed range: 0.01 to 19.88\n"
     ]
    }
   ],
   "source": [
    "# Create a standard weather dataset\n",
    "weather_data = pd.DataFrame({\n",
    "    'date': pd.date_range(start='2023-01-01', periods=100),\n",
    "    'temperature': np.random.uniform(0, 30, 100),\n",
    "    'precipitation': np.random.uniform(0, 50, 100),\n",
    "    'wind_speed': np.random.uniform(0, 20, 100)\n",
    "})\n",
    "\n",
    "print(weather_data.head())\n",
    "print(f\"\\nTemperature range: {weather_data['temperature'].min():.2f} to {weather_data['temperature'].max():.2f}\")\n",
    "print(f\"Precipitation range: {weather_data['precipitation'].min():.2f} to {weather_data['precipitation'].max():.2f}\")\n",
    "print(f\"Wind speed range: {weather_data['wind_speed'].min():.2f} to {weather_data['wind_speed'].max():.2f}\")"
   ]
  },
  {
   "cell_type": "code",
   "execution_count": 22,
   "metadata": {},
   "outputs": [
    {
     "name": "stdout",
     "output_type": "stream",
     "text": [
      "{'edge_cases': [{'description': 'Extreme cold temperature in a polar region '\n",
      "                                'with no precipitation.',\n",
      "                 'precipitation': 0,\n",
      "                 'temperature': -50,\n",
      "                 'wind_speed': 5},\n",
      "                {'description': 'Extremely high temperature during an '\n",
      "                                'unprecedented heatwave alongside heavy '\n",
      "                                'rainfall.',\n",
      "                 'precipitation': 300,\n",
      "                 'temperature': 60,\n",
      "                 'wind_speed': 20},\n",
      "                {'description': 'Severe drought conditions with extremely high '\n",
      "                                'temperatures and strong winds, increasing '\n",
      "                                'wildfire risk.',\n",
      "                 'precipitation': 0,\n",
      "                 'temperature': 45,\n",
      "                 'wind_speed': 35},\n",
      "                {'description': 'Unusual weather event with a tropical storm '\n",
      "                                'causing extreme rainfall in warm '\n",
      "                                'temperatures.',\n",
      "                 'precipitation': 500,\n",
      "                 'temperature': 25,\n",
      "                 'wind_speed': 15},\n",
      "                {'description': 'Heavy snowfall (equivalent to high '\n",
      "                                'precipitation) in sub-zero temperatures, '\n",
      "                                'common in winter storms.',\n",
      "                 'precipitation': 100,\n",
      "                 'temperature': -10,\n",
      "                 'wind_speed': 10}]}\n"
     ]
    }
   ],
   "source": [
    "# Use Gen AI to generate edge cases for weather data\n",
    "prompt = \"Generate 5 edge cases for a weather dataset with temperature (°C), precipitation (mm), and wind speed (m/s). Include extreme but plausible values. Output in JSON form\"\n",
    "\n",
    "response = client.chat.completions.create(\n",
    "    model=\"gpt-4o-mini\",\n",
    "    messages=[{\"role\": \"user\", \"content\": prompt}],\n",
    "    response_format={\"type\": \"json_object\"}\n",
    ")\n",
    "\n",
    "edge_cases = json.loads(response.choices[0].message.content)\n",
    "pprint(edge_cases)"
   ]
  },
  {
   "cell_type": "code",
   "execution_count": 23,
   "metadata": {},
   "outputs": [
    {
     "name": "stdout",
     "output_type": "stream",
     "text": [
      "                          date  temperature  precipitation  wind_speed\n",
      "105 2025-07-27 16:55:09.763210        -50.0            0.0         5.0\n",
      "106 2025-07-27 16:55:09.764215         60.0          300.0        20.0\n",
      "107 2025-07-27 16:55:09.765215         45.0            0.0        35.0\n",
      "108 2025-07-27 16:55:09.766417         25.0          500.0        15.0\n",
      "109 2025-07-27 16:55:09.768482        -10.0          100.0        10.0\n",
      "\n",
      "Updated temperature range: -50.00 to 60.00\n",
      "Updated precipitation range: 0.00 to 500.00\n",
      "Updated wind speed range: 0.01 to 35.00\n"
     ]
    }
   ],
   "source": [
    "# Add edge cases to the weather dataset\n",
    "for case in clean(edge_cases):\n",
    "    new_row = {\n",
    "        'date': pd.Timestamp.now(),\n",
    "        'temperature': case['temperature'],\n",
    "        'precipitation': case['precipitation'],\n",
    "        'wind_speed': case['wind_speed']\n",
    "    }\n",
    "    new_row_df = pd.DataFrame([new_row])\n",
    "    weather_data = pd.concat([weather_data, new_row_df], ignore_index=True)\n",
    "\n",
    "print(weather_data.tail())\n",
    "print(f\"\\nUpdated temperature range: {weather_data['temperature'].min():.2f} to {weather_data['temperature'].max():.2f}\")\n",
    "print(f\"Updated precipitation range: {weather_data['precipitation'].min():.2f} to {weather_data['precipitation'].max():.2f}\")\n",
    "print(f\"Updated wind speed range: {weather_data['wind_speed'].min():.2f} to {weather_data['wind_speed'].max():.2f}\")"
   ]
  },
  {
   "cell_type": "markdown",
   "metadata": {},
   "source": [
    "## 2. Example 5: Creating a Sample DataFrame with PII"
   ]
  },
  {
   "cell_type": "code",
   "execution_count": 24,
   "metadata": {},
   "outputs": [
    {
     "name": "stdout",
     "output_type": "stream",
     "text": [
      "          Name             Email         Phone  Age  Salary\n",
      "0     John Doe  john@example.com  123-456-7890   30   50000\n",
      "1   Jane Smith  jane@example.com  234-567-8901   25   60000\n",
      "2  Bob Johnson   bob@example.com  345-678-9012   45   75000\n"
     ]
    }
   ],
   "source": [
    "data = {\n",
    "    'Name': ['John Doe', 'Jane Smith', 'Bob Johnson'],\n",
    "    'Email': ['john@example.com', 'jane@example.com', 'bob@example.com'],\n",
    "    'Phone': ['123-456-7890', '234-567-8901', '345-678-9012'],\n",
    "    'Age': [30, 25, 45],\n",
    "    'Salary': [50000, 60000, 75000]\n",
    "}\n",
    "\n",
    "df = pd.DataFrame(data)\n",
    "print(df)"
   ]
  },
  {
   "cell_type": "code",
   "execution_count": 25,
   "metadata": {},
   "outputs": [
    {
     "name": "stdout",
     "output_type": "stream",
     "text": [
      "         Name             Email       Phone  Age  Salary\n",
      "0   **** ***,  ****@example.com  **********   30   50000\n",
      "1  **** *****  ****@example.com  **********   25   60000\n",
      "2  *** ******  ****@example.com  **********   45   75000\n"
     ]
    }
   ],
   "source": [
    "prompt = f\"\"\"Mask the following PII data. Keep the Age and Salary as is. Output in JSON form.\n",
    "Original data:\n",
    "{df.to_json(orient='records')}\n",
    "\"\"\"\n",
    "\n",
    "response = client.chat.completions.create(\n",
    "    model=\"gpt-4o-mini\",\n",
    "    messages=[{\"role\": \"user\", \"content\": prompt}],\n",
    "    response_format={\"type\": \"json_object\"}\n",
    ")\n",
    "\n",
    "masked_data = json.loads(response.choices[0].message.content)\n",
    "masked_df = pd.DataFrame(clean(masked_data))\n",
    "print(masked_df)"
   ]
  },
  {
   "cell_type": "code",
   "execution_count": 26,
   "metadata": {},
   "outputs": [
    {
     "name": "stdout",
     "output_type": "stream",
     "text": [
      "            Name                      Email         Phone  Age  Salary\n",
      "0    Alice Brown    alice.brown@example.com  456-789-0123   29   52000\n",
      "1  Michael White  michael.white@example.com  567-890-1234   34   58000\n",
      "2    Emily Davis    emily.davis@example.com  678-901-2345   42   72000\n"
     ]
    }
   ],
   "source": [
    "prompt = f\"\"\"Generate synthetic data similar to the following, but with different PII. Keep the Age and Salary distributions similar. Output in JSON form.\n",
    "Original data:\n",
    "{df.to_json(orient='records')}\n",
    "\"\"\"\n",
    "\n",
    "response = client.chat.completions.create(\n",
    "    model=\"gpt-4o-mini\",\n",
    "    messages=[{\"role\": \"user\", \"content\": prompt}],\n",
    "    response_format={\"type\": \"json_object\"}\n",
    ")\n",
    "\n",
    "synthetic_data = json.loads(response.choices[0].message.content)\n",
    "synthetic_df = pd.DataFrame(clean(synthetic_data))\n",
    "print(synthetic_df)"
   ]
  },
  {
   "cell_type": "code",
   "execution_count": 27,
   "metadata": {},
   "outputs": [
    {
     "name": "stdout",
     "output_type": "stream",
     "text": [
      "My name is * and I live in * and I was having trouble accessing my bank account (account ID: *****). Could you please help me?\n"
     ]
    }
   ],
   "source": [
    "pii_text = 'My name is Henry and I live in Toronto and I was having trouble accessing my bank account (account ID: 125526). \\\n",
    "    Could you please help me?'\n",
    "\n",
    "response = client.chat.completions.create(\n",
    "    model=\"gpt-4o-mini\",\n",
    "    messages=[{\"role\": \"user\", \"content\": \"Remove any PII from the following text, replace it with *: {}\".format(pii_text)}]\n",
    ")\n",
    "\n",
    "print(response.choices[0].message.content)"
   ]
  },
  {
   "cell_type": "markdown",
   "metadata": {},
   "source": [
    "## 2. Example 6: Generating Synthetic Samples for an Imbalanced Dataset"
   ]
  },
  {
   "cell_type": "code",
   "execution_count": 28,
   "metadata": {},
   "outputs": [
    {
     "name": "stdout",
     "output_type": "stream",
     "text": [
      "                                          review  sentiment\n",
      "0            This product is amazing! I love it!          1\n",
      "1               Great quality and fast shipping.          1\n",
      "2  Exceeded my expectations. Highly recommended!          1\n",
      "3              Best purchase I've made in years.          1\n",
      "4             Fantastic product, will buy again.          1\n",
      "5                 Disappointed with the quality.          0\n",
      "\n",
      "Class distribution:\n",
      "sentiment\n",
      "1    5\n",
      "0    1\n",
      "Name: count, dtype: int64\n"
     ]
    }
   ],
   "source": [
    "import pandas as pd\n",
    "import numpy as np\n",
    "\n",
    "# Create an unbalanced dataset of product reviews\n",
    "positive_reviews = [\n",
    "    \"This product is amazing! I love it!\",\n",
    "    \"Great quality and fast shipping.\",\n",
    "    \"Exceeded my expectations. Highly recommended!\",\n",
    "    \"Best purchase I've made in years.\",\n",
    "    \"Fantastic product, will buy again.\"\n",
    "]\n",
    "\n",
    "negative_reviews = [\n",
    "    \"Disappointed with the quality.\"\n",
    "]\n",
    "\n",
    "reviews = positive_reviews + negative_reviews\n",
    "labels = [1] * len(positive_reviews) + [0] * len(negative_reviews)\n",
    "\n",
    "df = pd.DataFrame({'review': reviews, 'sentiment': labels})\n",
    "print(df)\n",
    "print(f\"\\nClass distribution:\\n{df['sentiment'].value_counts()}\")"
   ]
  },
  {
   "cell_type": "code",
   "execution_count": 29,
   "metadata": {},
   "outputs": [
    {
     "name": "stdout",
     "output_type": "stream",
     "text": [
      "                                              review  sentiment\n",
      "0                This product is amazing! I love it!          1\n",
      "1                   Great quality and fast shipping.          1\n",
      "2      Exceeded my expectations. Highly recommended!          1\n",
      "3                  Best purchase I've made in years.          1\n",
      "4                 Fantastic product, will buy again.          1\n",
      "5                     Disappointed with the quality.          0\n",
      "6  I expected much better from this product. It f...          0\n",
      "7  The product did not meet my expectations at al...          0\n",
      "8  The durability of this product is really lacki...          0\n",
      "9  The product did not meet my expectations at al...          0\n",
      "\n",
      "New class distribution:\n",
      "sentiment\n",
      "1    5\n",
      "0    5\n",
      "Name: count, dtype: int64\n"
     ]
    }
   ],
   "source": [
    "# Function to generate negative reviews\n",
    "def generate_negative_review():\n",
    "    response = client.chat.completions.create(\n",
    "        model=\"gpt-4o-mini\",\n",
    "        messages=[\n",
    "            {\"role\": \"system\", \"content\": \"You are a helpful assistant that generates product reviews.\"},\n",
    "            {\"role\": \"user\", \"content\": \"Generate a negative product review similar to these negative reviews: {}. Output in JSON form.\".format(negative_reviews)}\n",
    "        ],\n",
    "        response_format={\"type\": \"json_object\"}\n",
    "    )\n",
    "    return clean(json.loads(response.choices[0].message.content))\n",
    "\n",
    "# Generate additional negative reviews\n",
    "num_to_generate = len(positive_reviews) - len(negative_reviews)\n",
    "new_negative_reviews = [generate_negative_review() for _ in range(num_to_generate)]\n",
    "\n",
    "# Add new negative reviews to the dataset\n",
    "new_data = pd.DataFrame({'review': new_negative_reviews, 'sentiment': [0] * len(new_negative_reviews)})\n",
    "df_balanced = pd.concat([df, new_data], ignore_index=True)\n",
    "\n",
    "print(df_balanced)\n",
    "print(f\"\\nNew class distribution:\\n{df_balanced['sentiment'].value_counts()}\")"
   ]
  },
  {
   "cell_type": "code",
   "execution_count": 30,
   "metadata": {},
   "outputs": [
    {
     "data": {
      "image/png": "[encoded data removed]",
      "text/plain": [
       "<Figure size 1000x500 with 1 Axes>"
      ]
     },
     "metadata": {},
     "output_type": "display_data"
    },
    {
     "name": "stdout",
     "output_type": "stream",
     "text": [
      "Sample of generated negative reviews:\n",
      "5                       Disappointed with the quality.\n",
      "6    I expected much better from this product. It f...\n",
      "7    The product did not meet my expectations at al...\n",
      "8    The durability of this product is really lacki...\n",
      "9    The product did not meet my expectations at al...\n",
      "Name: review, dtype: object\n"
     ]
    }
   ],
   "source": [
    "import matplotlib.pyplot as plt\n",
    "\n",
    "# Visualize class distribution\n",
    "plt.figure(figsize=(10, 5))\n",
    "df_balanced['sentiment'].value_counts().plot(kind='bar')\n",
    "plt.title('Class Distribution in Balanced Dataset')\n",
    "plt.xlabel('Sentiment')\n",
    "plt.ylabel('Count')\n",
    "plt.xticks([0, 1], ['Negative', 'Positive'])\n",
    "plt.show()\n",
    "\n",
    "# Display some generated negative reviews\n",
    "print(\"Sample of generated negative reviews:\")\n",
    "print(df_balanced[df_balanced['sentiment'] == 0]['review'].head())"
   ]
  },
  {
   "cell_type": "markdown",
   "metadata": {},
   "source": [
    "<a id='references'></a>\n",
    "## 3. References and Further Reading\n",
    "\n",
    "1. OpenAI API Documentation: https://platform.openai.com/docs/\n",
    "2. \"Synthetic Data for Deep Learning\" by Sergey I. Nikolenko\n",
    "3. \"The Synthetic Data Vault\" by Neha Patki et al.\n",
    "4. \"Data Augmentation in Time Series Domain\" by Eamonn Keogh and Jessica Lin\n",
    "5. \"Generative AI: A Creative New World\" by McKinsey & Company"
   ]
  }
 ],
 "metadata": {
  "kernelspec": {
   "display_name": "ai_data_engineer (3.11.3)",
   "language": "python",
   "name": "python3"
  },
  "language_info": {
   "codemirror_mode": {
    "name": "ipython",
    "version": 3
   },
   "file_extension": ".py",
   "mimetype": "text/x-python",
   "name": "python",
   "nbconvert_exporter": "python",
   "pygments_lexer": "ipython3",
   "version": "3.11.3"
  }
 },
 "nbformat": 4,
 "nbformat_minor": 4
}
